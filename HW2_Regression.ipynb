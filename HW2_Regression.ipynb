{
  "nbformat": 4,
  "nbformat_minor": 0,
  "metadata": {
    "kernelspec": {
      "display_name": "Python 3",
      "language": "python",
      "name": "python3"
    },
    "language_info": {
      "codemirror_mode": {
        "name": "ipython",
        "version": 3
      },
      "file_extension": ".py",
      "mimetype": "text/x-python",
      "name": "python",
      "nbconvert_exporter": "python",
      "pygments_lexer": "ipython3",
      "version": "3.7.6"
    },
    "toc": {
      "base_numbering": 1,
      "nav_menu": {},
      "number_sections": true,
      "sideBar": false,
      "skip_h1_title": false,
      "title_cell": "Table of Contents",
      "title_sidebar": "Contents",
      "toc_cell": false,
      "toc_position": {
        "height": "583px",
        "left": "0px",
        "right": "1324px",
        "top": "107px",
        "width": "211.997px"
      },
      "toc_section_display": false,
      "toc_window_display": false
    },
    "varInspector": {
      "cols": {
        "lenName": 16,
        "lenType": 16,
        "lenVar": 40
      },
      "kernels_config": {
        "python": {
          "delete_cmd_postfix": "",
          "delete_cmd_prefix": "del ",
          "library": "var_list.py",
          "varRefreshCmd": "print(var_dic_list())"
        },
        "r": {
          "delete_cmd_postfix": ") ",
          "delete_cmd_prefix": "rm(",
          "library": "var_list.r",
          "varRefreshCmd": "cat(var_dic_list()) "
        }
      },
      "types_to_exclude": [
        "module",
        "function",
        "builtin_function_or_method",
        "instance",
        "_Feature"
      ],
      "window_display": false
    },
    "colab": {
      "name": "HW2_Regression.ipynb",
      "provenance": [],
      "collapsed_sections": [],
      "toc_visible": true,
      "include_colab_link": true
    }
  },
  "cells": [
    {
      "cell_type": "markdown",
      "metadata": {
        "id": "view-in-github",
        "colab_type": "text"
      },
      "source": [
        "<a href=\"https://colab.research.google.com/github/rajadevineni/Applied_Machine_Learning/blob/master/HW2_Regression.ipynb\" target=\"_parent\"><img src=\"https://colab.research.google.com/assets/colab-badge.svg\" alt=\"Open In Colab\"/></a>"
      ]
    },
    {
      "cell_type": "markdown",
      "metadata": {
        "id": "9zgZQKI-fKFo"
      },
      "source": [
        "# Results\n",
        "- Models used with hyperparameters \n",
        "- Best Model parameters \n",
        "- Mean Cross validation score of Best model\n",
        "- Test score of best model \n",
        "- Train score of best model "
      ]
    },
    {
      "cell_type": "markdown",
      "metadata": {
        "id": "fpyeAEIYfKFq"
      },
      "source": [
        "## Data PreProcessing"
      ]
    },
    {
      "cell_type": "code",
      "metadata": {
        "id": "3EfGZQKGgBMT",
        "outputId": "c7f75e40-c514-4d54-9d61-29c74843dd40",
        "colab": {
          "base_uri": "https://localhost:8080/",
          "height": 360
        }
      },
      "source": [
        "!pip install feature-engine"
      ],
      "execution_count": 1,
      "outputs": [
        {
          "output_type": "stream",
          "text": [
            "Collecting feature-engine\n",
            "  Downloading https://files.pythonhosted.org/packages/14/ed/5680bf401855b788f79cadc1298c210c5860eb5d54c4008cfa234b752ef1/feature_engine-0.6.1-py2.py3-none-any.whl\n",
            "Collecting statsmodels>=0.11.1\n",
            "\u001b[?25l  Downloading https://files.pythonhosted.org/packages/00/93/1b6882f92d94e491a3e3be101fc83934551eada261281980f3957246432f/statsmodels-0.12.0-cp36-cp36m-manylinux1_x86_64.whl (9.5MB)\n",
            "\u001b[K     |████████████████████████████████| 9.5MB 6.1MB/s \n",
            "\u001b[?25hRequirement already satisfied: scikit-learn>=0.22.2 in /usr/local/lib/python3.6/dist-packages (from feature-engine) (0.22.2.post1)\n",
            "Requirement already satisfied: pandas>=1.0.3 in /usr/local/lib/python3.6/dist-packages (from feature-engine) (1.1.2)\n",
            "Requirement already satisfied: numpy>=1.18.2 in /usr/local/lib/python3.6/dist-packages (from feature-engine) (1.18.5)\n",
            "Requirement already satisfied: scipy>=1.4.1 in /usr/local/lib/python3.6/dist-packages (from feature-engine) (1.4.1)\n",
            "Requirement already satisfied: patsy>=0.5 in /usr/local/lib/python3.6/dist-packages (from statsmodels>=0.11.1->feature-engine) (0.5.1)\n",
            "Requirement already satisfied: joblib>=0.11 in /usr/local/lib/python3.6/dist-packages (from scikit-learn>=0.22.2->feature-engine) (0.16.0)\n",
            "Requirement already satisfied: pytz>=2017.2 in /usr/local/lib/python3.6/dist-packages (from pandas>=1.0.3->feature-engine) (2018.9)\n",
            "Requirement already satisfied: python-dateutil>=2.7.3 in /usr/local/lib/python3.6/dist-packages (from pandas>=1.0.3->feature-engine) (2.8.1)\n",
            "Requirement already satisfied: six in /usr/local/lib/python3.6/dist-packages (from patsy>=0.5->statsmodels>=0.11.1->feature-engine) (1.15.0)\n",
            "Installing collected packages: statsmodels, feature-engine\n",
            "  Found existing installation: statsmodels 0.10.2\n",
            "    Uninstalling statsmodels-0.10.2:\n",
            "      Successfully uninstalled statsmodels-0.10.2\n",
            "Successfully installed feature-engine-0.6.1 statsmodels-0.12.0\n"
          ],
          "name": "stdout"
        }
      ]
    },
    {
      "cell_type": "code",
      "metadata": {
        "ExecuteTime": {
          "end_time": "2020-04-18T02:35:24.399019Z",
          "start_time": "2020-04-18T02:35:24.391996Z"
        },
        "id": "0fDha7xFfKFr"
      },
      "source": [
        "from math import sqrt\n",
        "import pandas as pd\n",
        "import numpy as np\n",
        "import matplotlib.pyplot as plt\n",
        "import seaborn as sns\n",
        "import scipy.stats as stats\n",
        "from pathlib import Path\n",
        "\n",
        "pd.pandas.set_option('display.max_columns', None)\n",
        "%matplotlib inline"
      ],
      "execution_count": 2,
      "outputs": []
    },
    {
      "cell_type": "markdown",
      "metadata": {
        "id": "lsj6UvAAfKFu"
      },
      "source": [
        "### Load Datasets"
      ]
    },
    {
      "cell_type": "code",
      "metadata": {
        "ExecuteTime": {
          "end_time": "2020-04-18T02:35:24.782912Z",
          "start_time": "2020-04-18T02:35:24.751996Z"
        },
        "id": "GTqdiuoPfKFv"
      },
      "source": [
        "# load dataset\n",
        "# your code here\n",
        "data = pd.read_csv('houseprice.csv')"
      ],
      "execution_count": 3,
      "outputs": []
    },
    {
      "cell_type": "markdown",
      "metadata": {
        "id": "89eDsio_fKFy"
      },
      "source": [
        "### Types of variables\n",
        "\n"
      ]
    },
    {
      "cell_type": "code",
      "metadata": {
        "ExecuteTime": {
          "end_time": "2020-04-18T02:35:25.108170Z",
          "start_time": "2020-04-18T02:35:25.103201Z"
        },
        "id": "GvSazTLDfKFy",
        "outputId": "e4971011-d93d-4697-c5a8-c03edb415db7",
        "colab": {
          "base_uri": "https://localhost:8080/",
          "height": 51
        }
      },
      "source": [
        "# we have an Id variable, that we should not use for predictions:\n",
        "\n",
        "print('Number of House Id labels: ', len(data.Id.unique()))\n",
        "print('Number of Houses in the Dataset: ', len(data))"
      ],
      "execution_count": 4,
      "outputs": [
        {
          "output_type": "stream",
          "text": [
            "Number of House Id labels:  1460\n",
            "Number of Houses in the Dataset:  1460\n"
          ],
          "name": "stdout"
        }
      ]
    },
    {
      "cell_type": "markdown",
      "metadata": {
        "id": "jOzKdhxcfKF3"
      },
      "source": [
        "#### Find categorical variables"
      ]
    },
    {
      "cell_type": "code",
      "metadata": {
        "ExecuteTime": {
          "end_time": "2020-04-18T02:35:25.748372Z",
          "start_time": "2020-04-18T02:35:25.743348Z"
        },
        "id": "fJACH8KTfKF4",
        "outputId": "de2cbcc5-ff33-4f09-edcc-5d2d29166681",
        "colab": {
          "base_uri": "https://localhost:8080/",
          "height": 34
        }
      },
      "source": [
        "# find categorical variables- hint data type = 'O'\n",
        "\n",
        "categorical = [var for var in data.columns if data[var].dtype=='O']\n",
        "\n",
        "print(f'There are {len(categorical)} categorical variables')"
      ],
      "execution_count": 5,
      "outputs": [
        {
          "output_type": "stream",
          "text": [
            "There are 43 categorical variables\n"
          ],
          "name": "stdout"
        }
      ]
    },
    {
      "cell_type": "markdown",
      "metadata": {
        "id": "ROPVME_JfKF7"
      },
      "source": [
        "#### Find temporal variables"
      ]
    },
    {
      "cell_type": "code",
      "metadata": {
        "ExecuteTime": {
          "end_time": "2020-04-18T02:35:26.677342Z",
          "start_time": "2020-04-18T02:35:26.671360Z"
        },
        "id": "lUEJtcR2fKF7",
        "outputId": "0c0eb402-caec-4a47-897f-b8d0a7d7532c",
        "colab": {
          "base_uri": "https://localhost:8080/",
          "height": 34
        }
      },
      "source": [
        "# make a list of the numerical variables first= Hint data type != O\n",
        "numerical = [var for var in data.columns if data[var].dtype!='O']\n",
        "\n",
        "# list of variables that contain year information= Hint variable namme has Yr or \n",
        "year_vars = [var for var in numerical if 'Yr' in var or 'Year' in var]\n",
        "\n",
        "year_vars"
      ],
      "execution_count": 6,
      "outputs": [
        {
          "output_type": "execute_result",
          "data": {
            "text/plain": [
              "['YearBuilt', 'YearRemodAdd', 'GarageYrBlt', 'YrSold']"
            ]
          },
          "metadata": {
            "tags": []
          },
          "execution_count": 6
        }
      ]
    },
    {
      "cell_type": "markdown",
      "metadata": {
        "id": "TwZPnV8dfKF-"
      },
      "source": [
        "#### Find discrete variables\n",
        "\n",
        "To identify discrete variables- numerical variables with less than 20 unique values "
      ]
    },
    {
      "cell_type": "code",
      "metadata": {
        "ExecuteTime": {
          "end_time": "2020-04-18T02:35:27.842569Z",
          "start_time": "2020-04-18T02:35:27.831591Z"
        },
        "id": "GKfbrbj-fKF_",
        "outputId": "3ea8d609-f130-4a9d-9b5b-6fc51bd45d18",
        "colab": {
          "base_uri": "https://localhost:8080/",
          "height": 34
        }
      },
      "source": [
        "# let's visualise the values of the discrete variables\n",
        "discrete = [var for var in numerical if len(data[var].unique()) < 20 and var not in year_vars]\n",
        "\n",
        "print(f'There are {len(discrete)} discrete variables')"
      ],
      "execution_count": 7,
      "outputs": [
        {
          "output_type": "stream",
          "text": [
            "There are 14 discrete variables\n"
          ],
          "name": "stdout"
        }
      ]
    },
    {
      "cell_type": "markdown",
      "metadata": {
        "id": "B85bTYpVfKGI"
      },
      "source": [
        "#### Continuous variables"
      ]
    },
    {
      "cell_type": "code",
      "metadata": {
        "ExecuteTime": {
          "end_time": "2020-04-18T02:35:28.853687Z",
          "start_time": "2020-04-18T02:35:28.848700Z"
        },
        "id": "vLNp8MeDfKGI",
        "outputId": "84965518-34cd-4a78-ae3c-c6eff14b85b8",
        "colab": {
          "base_uri": "https://localhost:8080/",
          "height": 34
        }
      },
      "source": [
        "# find continuous variables- hint numerical variables not in discrete and  year_years \n",
        "# Also remove the Id variable and the target variable SalePrice\n",
        "# which are both also numerical\n",
        "\n",
        "continuous = [var for var in numerical if var not in discrete and var not in [\n",
        "    'Id', 'SalePrice'] and var not in year_vars]\n",
        "\n",
        "print('There are {} numerical and continuous variables'.format(len(numerical)))"
      ],
      "execution_count": 8,
      "outputs": [
        {
          "output_type": "stream",
          "text": [
            "There are 38 numerical and continuous variables\n"
          ],
          "name": "stdout"
        }
      ]
    },
    {
      "cell_type": "markdown",
      "metadata": {
        "id": "iRinoygafKGL"
      },
      "source": [
        "### Separate train and test set"
      ]
    },
    {
      "cell_type": "code",
      "metadata": {
        "ExecuteTime": {
          "end_time": "2020-04-18T02:35:29.868498Z",
          "start_time": "2020-04-18T02:35:29.855509Z"
        },
        "id": "7OZoeGLPfKGM",
        "outputId": "53520486-f614-4453-c0de-360ac6fcd4e1",
        "colab": {
          "base_uri": "https://localhost:8080/",
          "height": 34
        }
      },
      "source": [
        "# Let's separate into train and test set\n",
        "from sklearn.model_selection import train_test_split\n",
        "X_train, X_test, y_train, y_test = train_test_split(data.drop(['Id', 'SalePrice'], axis=1),\n",
        "                                                    data['SalePrice'],\n",
        "                                                    test_size=0.1,\n",
        "                                                    random_state=0)\n",
        "\n",
        "X_train.shape, X_test.shape"
      ],
      "execution_count": 9,
      "outputs": [
        {
          "output_type": "execute_result",
          "data": {
            "text/plain": [
              "((1314, 79), (146, 79))"
            ]
          },
          "metadata": {
            "tags": []
          },
          "execution_count": 9
        }
      ]
    },
    {
      "cell_type": "markdown",
      "metadata": {
        "id": "lNqykm01fKGP"
      },
      "source": [
        "### Craete New Variables\n",
        "\n",
        "Replace 'YearBuilt', 'YearRemodAdd', 'GarageYrBlt  with time elapsed since YrSold\n",
        "So YearBuilt = YrSold-YearBuilt. \n",
        "\n",
        "Similarly transform 'YearRemodAdd', 'GarageYrBlt.\n",
        "After making transformation drop YrSold"
      ]
    },
    {
      "cell_type": "code",
      "metadata": {
        "ExecuteTime": {
          "end_time": "2020-04-18T02:35:34.533220Z",
          "start_time": "2020-04-18T02:35:34.528292Z"
        },
        "id": "vlMrlyC3fKGQ"
      },
      "source": [
        "# function to calculate elapsed time\n",
        "\n",
        "def elapsed_years(df, var):\n",
        "    # capture difference between year variable and\n",
        "    # year the house was sold\n",
        "    \n",
        "    df[var] = df['YrSold'] - df[var]\n",
        "    return df"
      ],
      "execution_count": 10,
      "outputs": []
    },
    {
      "cell_type": "code",
      "metadata": {
        "ExecuteTime": {
          "end_time": "2020-04-18T02:35:34.937338Z",
          "start_time": "2020-04-18T02:35:34.929363Z"
        },
        "id": "wPLSmPmMfKGS"
      },
      "source": [
        "for var in ['YearBuilt', 'YearRemodAdd', 'GarageYrBlt']:\n",
        "    X_train = elapsed_years(X_train, var)\n",
        "    X_test = elapsed_years(X_test, var)"
      ],
      "execution_count": 11,
      "outputs": []
    },
    {
      "cell_type": "code",
      "metadata": {
        "ExecuteTime": {
          "end_time": "2020-04-18T02:35:35.352714Z",
          "start_time": "2020-04-18T02:35:35.344702Z"
        },
        "id": "tI73Fn5FfKGY"
      },
      "source": [
        "# drop YrSold\n",
        "X_train.drop('YrSold', axis=1, inplace=True)\n",
        "X_test.drop('YrSold', axis=1, inplace=True)"
      ],
      "execution_count": 12,
      "outputs": []
    },
    {
      "cell_type": "code",
      "metadata": {
        "ExecuteTime": {
          "end_time": "2020-04-18T02:35:35.763032Z",
          "start_time": "2020-04-18T02:35:35.759013Z"
        },
        "id": "yTYa2H2ofKGb"
      },
      "source": [
        "year_vars.remove('YrSold')"
      ],
      "execution_count": 13,
      "outputs": []
    },
    {
      "cell_type": "code",
      "metadata": {
        "ExecuteTime": {
          "end_time": "2020-04-18T02:35:36.454312Z",
          "start_time": "2020-04-18T02:35:36.448330Z"
        },
        "id": "58OiMYEIfKGe",
        "outputId": "612d669d-f406-4425-9514-18c07874ef41",
        "colab": {
          "base_uri": "https://localhost:8080/",
          "height": 306
        }
      },
      "source": [
        "# capture the column names for use later in the notebook\n",
        "final_columns = X_train.columns\n",
        "final_columns"
      ],
      "execution_count": 14,
      "outputs": [
        {
          "output_type": "execute_result",
          "data": {
            "text/plain": [
              "Index(['MSSubClass', 'MSZoning', 'LotFrontage', 'LotArea', 'Street', 'Alley',\n",
              "       'LotShape', 'LandContour', 'Utilities', 'LotConfig', 'LandSlope',\n",
              "       'Neighborhood', 'Condition1', 'Condition2', 'BldgType', 'HouseStyle',\n",
              "       'OverallQual', 'OverallCond', 'YearBuilt', 'YearRemodAdd', 'RoofStyle',\n",
              "       'RoofMatl', 'Exterior1st', 'Exterior2nd', 'MasVnrType', 'MasVnrArea',\n",
              "       'ExterQual', 'ExterCond', 'Foundation', 'BsmtQual', 'BsmtCond',\n",
              "       'BsmtExposure', 'BsmtFinType1', 'BsmtFinSF1', 'BsmtFinType2',\n",
              "       'BsmtFinSF2', 'BsmtUnfSF', 'TotalBsmtSF', 'Heating', 'HeatingQC',\n",
              "       'CentralAir', 'Electrical', '1stFlrSF', '2ndFlrSF', 'LowQualFinSF',\n",
              "       'GrLivArea', 'BsmtFullBath', 'BsmtHalfBath', 'FullBath', 'HalfBath',\n",
              "       'BedroomAbvGr', 'KitchenAbvGr', 'KitchenQual', 'TotRmsAbvGrd',\n",
              "       'Functional', 'Fireplaces', 'FireplaceQu', 'GarageType', 'GarageYrBlt',\n",
              "       'GarageFinish', 'GarageCars', 'GarageArea', 'GarageQual', 'GarageCond',\n",
              "       'PavedDrive', 'WoodDeckSF', 'OpenPorchSF', 'EnclosedPorch', '3SsnPorch',\n",
              "       'ScreenPorch', 'PoolArea', 'PoolQC', 'Fence', 'MiscFeature', 'MiscVal',\n",
              "       'MoSold', 'SaleType', 'SaleCondition'],\n",
              "      dtype='object')"
            ]
          },
          "metadata": {
            "tags": []
          },
          "execution_count": 14
        }
      ]
    },
    {
      "cell_type": "markdown",
      "metadata": {
        "id": "SrbkOk21fKGg"
      },
      "source": [
        "### Feature Engineering Pipeline"
      ]
    },
    {
      "cell_type": "code",
      "metadata": {
        "ExecuteTime": {
          "end_time": "2020-04-18T02:35:39.153061Z",
          "start_time": "2020-04-18T02:35:39.135110Z"
        },
        "id": "phdOfDx_fKGh"
      },
      "source": [
        "# I will treat discrete variables as if they were categorical\n",
        "# to treat discrete as categorical using Feature-engine\n",
        "# we need to re-cast them as object\n",
        "\n",
        "X_train[discrete] = X_train[discrete].astype('O')\n",
        "X_test[discrete] = X_test[discrete].astype('O')"
      ],
      "execution_count": 15,
      "outputs": []
    },
    {
      "cell_type": "code",
      "metadata": {
        "ExecuteTime": {
          "end_time": "2020-04-18T02:35:39.699977Z",
          "start_time": "2020-04-18T02:35:39.695987Z"
        },
        "id": "8RXOQGWJfKGj"
      },
      "source": [
        "# import relevant modules for feature engineering\n",
        "from sklearn.pipeline import Pipeline\n",
        "from sklearn.preprocessing import StandardScaler\n",
        "from feature_engine import missing_data_imputers as mdi\n",
        "from feature_engine import categorical_encoders as ce\n",
        "from feature_engine.variable_transformers import YeoJohnsonTransformer\n",
        "from sklearn.preprocessing import StandardScaler\n",
        "from feature_engine.discretisers import DecisionTreeDiscretiser\n",
        "from feature_engine.wrappers import SklearnTransformerWrapper"
      ],
      "execution_count": 16,
      "outputs": []
    },
    {
      "cell_type": "code",
      "metadata": {
        "ExecuteTime": {
          "end_time": "2020-04-18T02:35:47.936159Z",
          "start_time": "2020-04-18T02:35:47.928197Z"
        },
        "id": "XdxT6f2bfKGn"
      },
      "source": [
        "house_preprocess = Pipeline([\n",
        "    \n",
        "    # missing data imputation \n",
        "    ('missing_ind', mdi.AddMissingIndicator(\n",
        "        variables=['LotFrontage', 'MasVnrArea',  'GarageYrBlt'])),\n",
        "    ('imputer_num', mdi.MeanMedianImputer(imputation_method='mean',\n",
        "                                          variables=['LotFrontage', 'MasVnrArea',  'GarageYrBlt'])),\n",
        "    ('imputer_cat', mdi.CategoricalVariableImputer(imputation_method='missing',variables=categorical)),\n",
        "\n",
        "    # categorical encoding \n",
        "     ('rare_label_enc', ce.RareLabelCategoricalEncoder(\n",
        "         tol=0.01,n_categories=3, variables=categorical+discrete)),\n",
        "    ('categorical_enc', ce.MeanCategoricalEncoder(variables = categorical + discrete)),\n",
        "     \n",
        "    # Transforming Numerical Variables\n",
        "    ('yjt', YeoJohnsonTransformer(variables = ['LotFrontage','MasVnrArea', 'GarageYrBlt'])),\n",
        "\n",
        "    \n",
        "    # discretisation and encoding\n",
        "    ('treeDisc',  DecisionTreeDiscretiser(cv=2, scoring='neg_mean_squared_error',\n",
        "                                   regression=True,\n",
        "                                   param_grid={'max_depth': [1,2,3,4,5,6]},\n",
        "                                   variables = ['LotFrontage','MasVnrArea', 'GarageYrBlt'])),\n",
        "\n",
        "    # feature Scaling\n",
        "    ('scaler', SklearnTransformerWrapper(transformer=StandardScaler())),\n",
        "    \n",
        "\n",
        "\n",
        "])"
      ],
      "execution_count": 17,
      "outputs": []
    },
    {
      "cell_type": "code",
      "metadata": {
        "ExecuteTime": {
          "end_time": "2020-04-18T02:35:51.412212Z",
          "start_time": "2020-04-18T02:35:51.024227Z"
        },
        "id": "oXkLby7NfKGq",
        "outputId": "c128c31a-c5f7-4568-9ba4-fdc4b1145d3e",
        "colab": {
          "base_uri": "https://localhost:8080/",
          "height": 887
        }
      },
      "source": [
        "house_preprocess.fit(X_train,y_train)"
      ],
      "execution_count": 18,
      "outputs": [
        {
          "output_type": "stream",
          "text": [
            "/usr/local/lib/python3.6/dist-packages/feature_engine/categorical_encoders.py:786: UserWarning: The number of unique categories for variable Street is less than that indicated in n_categories. Thus, all categories will be considered frequent\n",
            "  \"n_categories. Thus, all categories will be considered frequent\".format(var))\n",
            "/usr/local/lib/python3.6/dist-packages/feature_engine/categorical_encoders.py:786: UserWarning: The number of unique categories for variable Alley is less than that indicated in n_categories. Thus, all categories will be considered frequent\n",
            "  \"n_categories. Thus, all categories will be considered frequent\".format(var))\n",
            "/usr/local/lib/python3.6/dist-packages/feature_engine/categorical_encoders.py:786: UserWarning: The number of unique categories for variable Utilities is less than that indicated in n_categories. Thus, all categories will be considered frequent\n",
            "  \"n_categories. Thus, all categories will be considered frequent\".format(var))\n",
            "/usr/local/lib/python3.6/dist-packages/feature_engine/categorical_encoders.py:786: UserWarning: The number of unique categories for variable LandSlope is less than that indicated in n_categories. Thus, all categories will be considered frequent\n",
            "  \"n_categories. Thus, all categories will be considered frequent\".format(var))\n",
            "/usr/local/lib/python3.6/dist-packages/feature_engine/categorical_encoders.py:786: UserWarning: The number of unique categories for variable CentralAir is less than that indicated in n_categories. Thus, all categories will be considered frequent\n",
            "  \"n_categories. Thus, all categories will be considered frequent\".format(var))\n",
            "/usr/local/lib/python3.6/dist-packages/feature_engine/categorical_encoders.py:786: UserWarning: The number of unique categories for variable PavedDrive is less than that indicated in n_categories. Thus, all categories will be considered frequent\n",
            "  \"n_categories. Thus, all categories will be considered frequent\".format(var))\n",
            "/usr/local/lib/python3.6/dist-packages/feature_engine/categorical_encoders.py:786: UserWarning: The number of unique categories for variable BsmtHalfBath is less than that indicated in n_categories. Thus, all categories will be considered frequent\n",
            "  \"n_categories. Thus, all categories will be considered frequent\".format(var))\n",
            "/usr/local/lib/python3.6/dist-packages/feature_engine/categorical_encoders.py:786: UserWarning: The number of unique categories for variable HalfBath is less than that indicated in n_categories. Thus, all categories will be considered frequent\n",
            "  \"n_categories. Thus, all categories will be considered frequent\".format(var))\n"
          ],
          "name": "stderr"
        },
        {
          "output_type": "execute_result",
          "data": {
            "text/plain": [
              "Pipeline(memory=None,\n",
              "         steps=[('missing_ind',\n",
              "                 AddMissingIndicator(how='missing_only',\n",
              "                                     variables=['LotFrontage', 'MasVnrArea',\n",
              "                                                'GarageYrBlt'])),\n",
              "                ('imputer_num',\n",
              "                 MeanMedianImputer(imputation_method='mean',\n",
              "                                   variables=['LotFrontage', 'MasVnrArea',\n",
              "                                              'GarageYrBlt'])),\n",
              "                ('imputer_cat',\n",
              "                 CategoricalVariableImputer(fill_value='Missing',\n",
              "                                            imputation_method='missing',\n",
              "                                            return_ob...\n",
              "                                                      'LotFrontage', 'LotArea',\n",
              "                                                      'Street', 'Alley',\n",
              "                                                      'LotShape', 'LandContour',\n",
              "                                                      'Utilities', 'LotConfig',\n",
              "                                                      'LandSlope',\n",
              "                                                      'Neighborhood',\n",
              "                                                      'Condition1',\n",
              "                                                      'Condition2', 'BldgType',\n",
              "                                                      'HouseStyle',\n",
              "                                                      'OverallQual',\n",
              "                                                      'OverallCond',\n",
              "                                                      'YearBuilt',\n",
              "                                                      'YearRemodAdd',\n",
              "                                                      'RoofStyle', 'RoofMatl',\n",
              "                                                      'Exterior1st',\n",
              "                                                      'Exterior2nd',\n",
              "                                                      'MasVnrType',\n",
              "                                                      'MasVnrArea', 'ExterQual',\n",
              "                                                      'ExterCond', 'Foundation',\n",
              "                                                      'BsmtQual', ...]))],\n",
              "         verbose=False)"
            ]
          },
          "metadata": {
            "tags": []
          },
          "execution_count": 18
        }
      ]
    },
    {
      "cell_type": "code",
      "metadata": {
        "ExecuteTime": {
          "end_time": "2020-04-18T02:35:56.889320Z",
          "start_time": "2020-04-18T02:35:56.639988Z"
        },
        "id": "2HFzs6bcfKGt"
      },
      "source": [
        "# Apply Transformations\n",
        "X_train=house_preprocess.transform(X_train)\n",
        "X_test=house_preprocess.transform(X_test)"
      ],
      "execution_count": 19,
      "outputs": []
    },
    {
      "cell_type": "markdown",
      "metadata": {
        "id": "OkQ5kblOfKGv"
      },
      "source": [
        "## <span class=\"mark\">DO NOT CHANGE STEPS BEFORE THIS POINT</span>"
      ]
    },
    {
      "cell_type": "markdown",
      "metadata": {
        "id": "vZTeNjG0k2ct"
      },
      "source": [
        "## Try Different models we have learnt in Class - The Best model should be chosen based on mean cross validation score"
      ]
    },
    {
      "cell_type": "markdown",
      "metadata": {
        "ExecuteTime": {
          "end_time": "2020-03-09T04:00:12.095764Z",
          "start_time": "2020-03-09T04:00:12.093253Z"
        },
        "id": "0LDnyNh2fKGv"
      },
      "source": [
        "## Regression Models- Tune different models one by one"
      ]
    },
    {
      "cell_type": "markdown",
      "metadata": {
        "id": "JTNJnpK0BAnX"
      },
      "source": [
        "### Ridge regression"
      ]
    },
    {
      "cell_type": "code",
      "metadata": {
        "ExecuteTime": {
          "end_time": "2020-04-18T02:36:39.792109Z",
          "start_time": "2020-04-18T02:36:39.646502Z"
        },
        "id": "8LRGcYSKfKGy",
        "outputId": "b661df17-186a-4947-99d3-e3c8337a0aa6",
        "colab": {
          "base_uri": "https://localhost:8080/",
          "height": 85
        }
      },
      "source": [
        "# Code snippet already provided in the assignment\n",
        "# Train a Ridge regression model\n",
        "from sklearn.model_selection import GridSearchCV\n",
        "from sklearn.linear_model import Ridge\n",
        "ridge = Ridge()\n",
        "\n",
        "#define a list of parameters\n",
        "param_ridge = {'alpha':[0.001, 0.01, 0.1, 1, 10, 100, 1000] }\n",
        "\n",
        "grid_ridge = GridSearchCV(ridge, param_ridge, cv=5, return_train_score = True)\n",
        "grid_ridge.fit(X_train, y_train)\n",
        "\n",
        "# Mean Cross Validation Score\n",
        "print(\"Best Mean Cross-validation score: {:.2f}\".format(grid_ridge.best_score_))\n",
        "\n",
        "print()\n",
        "\n",
        "#find best parameters\n",
        "print('Ridge parameters: ', grid_ridge.best_params_)\n",
        "\n",
        "# Check test data set performance\n",
        "\n",
        "print(\"Ridge Test Performance: \", grid_ridge.score(X_test,y_test))"
      ],
      "execution_count": 20,
      "outputs": [
        {
          "output_type": "stream",
          "text": [
            "Best Mean Cross-validation score: 0.83\n",
            "\n",
            "Ridge parameters:  {'alpha': 100}\n",
            "Ridge Test Performance:  0.7861405134143578\n"
          ],
          "name": "stdout"
        }
      ]
    },
    {
      "cell_type": "markdown",
      "metadata": {
        "id": "VrxjQ-IoA79T"
      },
      "source": [
        "### Lasso regression"
      ]
    },
    {
      "cell_type": "code",
      "metadata": {
        "id": "10oTLHdt-wqD",
        "outputId": "b50e7f6a-5b69-49b8-e6ec-ddbc01a93065",
        "colab": {
          "base_uri": "https://localhost:8080/",
          "height": 85
        }
      },
      "source": [
        "from sklearn import linear_model\n",
        "from warnings import filterwarnings\n",
        "filterwarnings('ignore')\n",
        "\n",
        "# Training a Lasso regression model\n",
        "lasso_reg = linear_model.Lasso(max_iter=1000)\n",
        "\n",
        "#define parameters\n",
        "param_lasso = {'alpha':[0.001, 0.01, 0.1, 1, 10, 100, 1000] }\n",
        "\n",
        "grid_lasso = GridSearchCV(lasso_reg, param_lasso, cv=10, return_train_score = True)\n",
        "grid_lasso.fit(X_train, y_train)\n",
        "\n",
        "# Mean Cross Validation Score\n",
        "print(\"Best Mean Cross-validation score: {:.2f}\".format(grid_lasso.best_score_))\n",
        "\n",
        "print()\n",
        "\n",
        "#find best parameters\n",
        "print('Lasso parameters: ', grid_lasso.best_params_)\n",
        "\n",
        "# Check test data set performance\n",
        "\n",
        "print(\"Lasso Test Performance: \", grid_lasso.score(X_test,y_test))"
      ],
      "execution_count": 21,
      "outputs": [
        {
          "output_type": "stream",
          "text": [
            "Best Mean Cross-validation score: 0.84\n",
            "\n",
            "Lasso parameters:  {'alpha': 1000}\n",
            "Lasso Test Performance:  0.8143430518610633\n"
          ],
          "name": "stdout"
        }
      ]
    },
    {
      "cell_type": "markdown",
      "metadata": {
        "id": "q5HBExQ-GStU"
      },
      "source": [
        "### Decision Tree Regression"
      ]
    },
    {
      "cell_type": "code",
      "metadata": {
        "id": "_AsPU4XfGE3v",
        "outputId": "1c98a6dd-f53a-4c76-ef05-40b40c7b81e4",
        "colab": {
          "base_uri": "https://localhost:8080/",
          "height": 85
        }
      },
      "source": [
        "from sklearn.tree import DecisionTreeRegressor\n",
        "\n",
        "dtree_reg = DecisionTreeRegressor()\n",
        "\n",
        "#define parameters \n",
        "param_dtreereg = {'max_depth': [2, 3, 4, 5, 6, 7]}\n",
        "\n",
        "grid_dtreereg = GridSearchCV(dtree_reg, param_dtreereg, cv=10, return_train_score = True)\n",
        "grid_dtreereg.fit(X_train, y_train)\n",
        "\n",
        "# Mean Cross Validation Score\n",
        "print(\"Best Mean Cross-validation score: {:.2f}\".format(grid_dtreereg.best_score_))\n",
        "\n",
        "print()\n",
        "\n",
        "#find best parameters\n",
        "print('Decision Tree parameters: ', grid_dtreereg.best_params_)\n",
        "\n",
        "# Check test data set performance\n",
        "\n",
        "print(\"Decision Tree Test Performance: \", grid_dtreereg.score(X_test,y_test))"
      ],
      "execution_count": 22,
      "outputs": [
        {
          "output_type": "stream",
          "text": [
            "Best Mean Cross-validation score: 0.74\n",
            "\n",
            "Decision Tree parameters:  {'max_depth': 5}\n",
            "Decision Tree Test Performance:  0.8364810787159372\n"
          ],
          "name": "stdout"
        }
      ]
    },
    {
      "cell_type": "markdown",
      "metadata": {
        "id": "wF93HLtONZht"
      },
      "source": [
        "### KNN Neighbours Regression"
      ]
    },
    {
      "cell_type": "code",
      "metadata": {
        "id": "ATN00mzONdXm",
        "outputId": "17a3ca02-a309-4e2b-ad1f-69d00f1edec9",
        "colab": {
          "base_uri": "https://localhost:8080/",
          "height": 85
        }
      },
      "source": [
        "from sklearn.neighbors import KNeighborsRegressor\n",
        "\n",
        "knnreg = KNeighborsRegressor()\n",
        "\n",
        "#define parameters\n",
        "param_knn = {'n_neighbors': np.arange(1, 30, 2)}\n",
        "\n",
        "grid_knnreg = GridSearchCV(knnreg, param_knn, cv=10, return_train_score = True)\n",
        "grid_knnreg.fit(X_train, y_train)\n",
        "\n",
        "# Mean Cross Validation Score\n",
        "print(\"Best Mean Cross-validation score: {:.2f}\".format(grid_knnreg.best_score_))\n",
        "\n",
        "print()\n",
        "\n",
        "#find best parameters\n",
        "print('KNN Regression parameters: ', grid_knnreg.best_params_)\n",
        "\n",
        "# Check test data set performance\n",
        "\n",
        "print(\"KNN Regression Test Performance: \", grid_knnreg.score(X_test,y_test))\n"
      ],
      "execution_count": 23,
      "outputs": [
        {
          "output_type": "stream",
          "text": [
            "Best Mean Cross-validation score: 0.79\n",
            "\n",
            "KNN Regression parameters:  {'n_neighbors': 9}\n",
            "KNN Regression Test Performance:  0.6484091011554165\n"
          ],
          "name": "stdout"
        }
      ]
    },
    {
      "cell_type": "markdown",
      "metadata": {
        "id": "aUxSryFENPQF"
      },
      "source": [
        "### ElasticNet Regression\n",
        "\n"
      ]
    },
    {
      "cell_type": "code",
      "metadata": {
        "id": "LIvlJnz8NMn6",
        "outputId": "99bae652-1e1e-4eda-9cf7-4317f6ccc4b1",
        "colab": {
          "base_uri": "https://localhost:8080/",
          "height": 85
        }
      },
      "source": [
        "from sklearn.linear_model import ElasticNet\n",
        "\n",
        "elnet = ElasticNet()\n",
        "\n",
        "#define parameters\n",
        "param_elnet = {'alpha':[0.001, 0.01, 0.1, 1, 10, 100, 1000]}\n",
        "\n",
        "grid_elnet = GridSearchCV(elnet, param_elnet, cv=10, return_train_score = True)\n",
        "grid_elnet.fit(X_train, y_train)\n",
        "\n",
        "# Mean Cross Validation Score\n",
        "print(\"Best Mean Cross-validation score: {:.2f}\".format(grid_elnet.best_score_))\n",
        "\n",
        "print()\n",
        "\n",
        "#find best parameters\n",
        "print('ElasticNet parameters: ', grid_elnet.best_params_)\n",
        "\n",
        "# Check test data set performance\n",
        "\n",
        "print(\"ElasticNet Test Performance: \", grid_elnet.score(X_test,y_test))"
      ],
      "execution_count": 24,
      "outputs": [
        {
          "output_type": "stream",
          "text": [
            "Best Mean Cross-validation score: 0.84\n",
            "\n",
            "ElasticNet parameters:  {'alpha': 1}\n",
            "ElasticNet Test Performance:  0.7786442924623866\n"
          ],
          "name": "stdout"
        }
      ]
    },
    {
      "cell_type": "markdown",
      "metadata": {
        "id": "CM40fZKraxTM"
      },
      "source": [
        "Linear Regression"
      ]
    },
    {
      "cell_type": "code",
      "metadata": {
        "id": "JT5foZ3yaFju"
      },
      "source": [
        "from sklearn.preprocessing import PolynomialFeatures\n",
        "from sklearn.linear_model import LinearRegression\n",
        "\n",
        "#degree=3\n",
        "linear = LinearRegression()\n",
        "\n",
        "poly_pipe = Pipeline([('poly', PolynomialFeatures()),(\"regressor\", LinearRegression())])\n",
        "\n",
        "#poly_pipe =make_pipeline(PolynomialFeatures(degree),LinearRegression())\n",
        "\n",
        "param_linear = { 'poly__degree': [2,3,4,5],\n",
        "                 'regressor': [LinearRegression()],\n",
        "                }\n",
        "\n",
        "#polyreg.fit(X_train, y_train)\n",
        "\n",
        "grid_linear = GridSearchCV(poly_pipe, param_linear, cv=5, return_train_score = True)\n",
        "grid_linear.fit(X_train, y_train)\n",
        "\n",
        "# Mean Cross Validation Score\n",
        "print(\"Best Mean Cross-validation score: {:.2f}\".format(grid_linear.best_score_))\n",
        "\n",
        "print()\n",
        "\n",
        "#find best parameters\n",
        "print('ElasticNet parameters: ', grid_linear.best_params_)\n",
        "\n",
        "# Check test data set performance\n",
        "\n",
        "print(\"ElasticNet Test Performance: \", grid_linear.score(X_test,y_test))"
      ],
      "execution_count": null,
      "outputs": []
    },
    {
      "cell_type": "markdown",
      "metadata": {
        "ExecuteTime": {
          "end_time": "2020-03-09T03:59:33.754940Z",
          "start_time": "2020-03-09T03:59:33.751933Z"
        },
        "id": "LzKgORZnfKG4"
      },
      "source": [
        "## Tune Multiple Models with one GridSearch"
      ]
    },
    {
      "cell_type": "code",
      "metadata": {
        "ExecuteTime": {
          "end_time": "2020-04-18T02:33:50.164037Z",
          "start_time": "2020-04-18T02:33:50.159051Z"
        },
        "id": "CSMXyQkTfKG4"
      },
      "source": [
        "from sklearn.linear_model import LinearRegression\n",
        "model_gs = Pipeline([(\"regressor\", LinearRegression())])"
      ],
      "execution_count": null,
      "outputs": []
    },
    {
      "cell_type": "code",
      "metadata": {
        "ExecuteTime": {
          "end_time": "2020-04-18T02:36:48.444095Z",
          "start_time": "2020-04-18T02:36:48.438113Z"
        },
        "id": "f1acuFB_fKG6"
      },
      "source": [
        "model_parm_gd = [\n",
        "    \n",
        "    # Linear Regressor\n",
        "    { 'regressor': [LinearRegression()]},\n",
        "    \n",
        "    # Ridge Regressor\n",
        "    { 'regressor': [Ridge()],\n",
        "      'regressor__alpha':[0.001, 0.01, 0.1, 1, 10, 100, 200, 300, 400, 500],\n",
        "      'regressor__random_state': [0, 30, 42] },\n",
        "    \n",
        "    # Lasso Regressor\n",
        "    { 'regressor': [linear_model.Lasso()],\n",
        "      'regressor__alpha':[0.001, 0.01, 0.1, 1, 10, 100, 200, 300, 400, 500, 1000] },\n",
        "    \n",
        "    # Decision Tree Regressor \n",
        "    {'regressor': [DecisionTreeRegressor()],\n",
        "      'regressor__max_depth': [2, 3, 4]},\n",
        "    \n",
        "    # KNN Regressor      \n",
        "    {'regressor' :[KNeighborsRegressor()],\n",
        "     'regressor__n_neighbors': np.arange(1, 30, 2)},\n",
        "    \n",
        "    # Elastic Net Regressor\n",
        "    { 'regressor': [ElasticNet()],\n",
        "      'regressor__alpha':[0.001, 0.01, 0.1, 1, 10, 100, 200, 300, 400, 500, 600, 1000],\n",
        "      'regressor__random_state': [0, 30, 42] },\n",
        "]"
      ],
      "execution_count": null,
      "outputs": []
    },
    {
      "cell_type": "code",
      "metadata": {
        "ExecuteTime": {
          "end_time": "2020-04-18T02:36:49.113707Z",
          "start_time": "2020-04-18T02:36:49.109596Z"
        },
        "id": "m-KvzGT8fKG-"
      },
      "source": [
        "grid_search_house_pipe = GridSearchCV(model_gs, model_parm_gd)"
      ],
      "execution_count": null,
      "outputs": []
    },
    {
      "cell_type": "code",
      "metadata": {
        "ExecuteTime": {
          "end_time": "2020-04-18T02:36:56.034542Z",
          "start_time": "2020-04-18T02:36:54.149623Z"
        },
        "id": "neBrt3mrfKHC"
      },
      "source": [
        "grid_search_house_pipe.fit(X_train,y_train)"
      ],
      "execution_count": null,
      "outputs": []
    },
    {
      "cell_type": "code",
      "metadata": {
        "ExecuteTime": {
          "end_time": "2020-04-18T02:37:01.052392Z",
          "start_time": "2020-04-18T02:37:01.047405Z"
        },
        "id": "BUH4If1CfKHD"
      },
      "source": [
        "print(grid_search_house_pipe.best_params_)"
      ],
      "execution_count": null,
      "outputs": []
    },
    {
      "cell_type": "code",
      "metadata": {
        "ExecuteTime": {
          "end_time": "2020-04-18T02:37:01.746573Z",
          "start_time": "2020-04-18T02:37:01.741588Z"
        },
        "id": "HP7AD3QqfKHF"
      },
      "source": [
        "# let's get the predictions\n",
        "X_train_preds = grid_search_house_pipe.predict(X_train)\n",
        "X_test_preds = grid_search_house_pipe.predict(X_test)"
      ],
      "execution_count": null,
      "outputs": []
    },
    {
      "cell_type": "code",
      "metadata": {
        "ExecuteTime": {
          "end_time": "2020-04-18T02:37:02.497892Z",
          "start_time": "2020-04-18T02:37:02.493898Z"
        },
        "id": "TI4XejkcfKHI"
      },
      "source": [
        "print(\"Best Mean Cross-validation score: {:.2f}\".format(grid_search_house_pipe.best_score_))"
      ],
      "execution_count": null,
      "outputs": []
    },
    {
      "cell_type": "code",
      "metadata": {
        "ExecuteTime": {
          "end_time": "2020-04-18T02:37:08.601251Z",
          "start_time": "2020-04-18T02:37:08.590317Z"
        },
        "id": "oHmMMZW5fKHN"
      },
      "source": [
        "# check model performance:\n",
        "from sklearn.metrics import mean_squared_error\n",
        "from sklearn.metrics import r2_score\n",
        "\n",
        "print('test mse: {}'.format(mean_squared_error(y_test, X_test_preds)))\n",
        "print('test rmse: {}'.format(sqrt(mean_squared_error(y_test, X_test_preds))))\n",
        "print('test r2: {}'.format(r2_score(y_test, X_test_preds)))"
      ],
      "execution_count": null,
      "outputs": []
    },
    {
      "cell_type": "markdown",
      "metadata": {
        "id": "M_S4YrwRSb09"
      },
      "source": [
        "## Best Model \n",
        "\n",
        "**Ridge Regressor** is the model with highest Mean Corss-Validation, below are the hyper parameters.\n",
        "\n",
        "```\n",
        "{'regressor': Ridge(alpha=300, copy_X=True, fit_intercept=True, max_iter=None,\n",
        "      normalize=False, random_state=0, solver='auto', tol=0.001), 'regressor__alpha': 300, 'regressor__random_state': 0}\n",
        "```"
      ]
    },
    {
      "cell_type": "code",
      "metadata": {
        "id": "4zmZNN1dS-M0"
      },
      "source": [
        ""
      ],
      "execution_count": null,
      "outputs": []
    }
  ]
}